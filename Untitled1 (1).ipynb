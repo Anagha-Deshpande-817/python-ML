{
  "nbformat": 4,
  "nbformat_minor": 0,
  "metadata": {
    "colab": {
      "provenance": []
    },
    "kernelspec": {
      "name": "python3",
      "display_name": "Python 3"
    },
    "language_info": {
      "name": "python"
    }
  },
  "cells": [
    {
      "cell_type": "code",
      "execution_count": null,
      "metadata": {
        "id": "Dlfw233xhGxb"
      },
      "outputs": [],
      "source": []
    },
    {
      "cell_type": "markdown",
      "source": [
        "Type conversion"
      ],
      "metadata": {
        "id": "1Mv-_JB1hgJ3"
      }
    },
    {
      "cell_type": "code",
      "source": [
        "str_number = \"123\"\n",
        "int_number = int(str_number)\n",
        "float_number = float(str_number)"
      ],
      "metadata": {
        "id": "HjlY9ajlhmDH"
      },
      "execution_count": null,
      "outputs": []
    },
    {
      "cell_type": "code",
      "source": [
        "first_name = \"Anagha\"\n",
        "last_name = \"anu\"\n",
        "age = 21\n",
        "height = 5.7\n",
        "is_student = True\n"
      ],
      "metadata": {
        "id": "GxbNr3L6h87_"
      },
      "execution_count": null,
      "outputs": []
    },
    {
      "cell_type": "code",
      "source": [
        "print(f\"Name: {first_name} {last_name}\")\n",
        "print(f\"Age: {age}\")\n",
        "print(f\"Height: {height} feet\")\n",
        "print(f\"Student: {is_student}\")"
      ],
      "metadata": {
        "colab": {
          "base_uri": "https://localhost:8080/"
        },
        "id": "01IM8XRqiexI",
        "outputId": "064af2d9-e195-4562-d23d-f159dac74127"
      },
      "execution_count": null,
      "outputs": [
        {
          "output_type": "stream",
          "name": "stdout",
          "text": [
            "Name: Anagha anu\n",
            "Age: 21\n",
            "Height: 5.7 feet\n",
            "Student: True\n"
          ]
        }
      ]
    },
    {
      "cell_type": "code",
      "source": [],
      "metadata": {
        "id": "meM-muJRjiyp"
      },
      "execution_count": null,
      "outputs": []
    },
    {
      "cell_type": "markdown",
      "source": [
        "Type Conversion"
      ],
      "metadata": {
        "id": "Fwh3f6mJkZUg"
      }
    },
    {
      "cell_type": "code",
      "source": [
        "age_str = str(age)\n",
        "height_int = int(height)\n",
        "print(f\"Age as String: {age_str}\")\n",
        "print(f\"Height as integer: {height_int}\")"
      ],
      "metadata": {
        "colab": {
          "base_uri": "https://localhost:8080/"
        },
        "id": "_IDvrNrwkblH",
        "outputId": "a76f0a20-a133-46ba-f607-c5d6f2cdac17"
      },
      "execution_count": null,
      "outputs": [
        {
          "output_type": "stream",
          "name": "stdout",
          "text": [
            "Age as String: 21\n",
            "Height as integer: 5\n"
          ]
        }
      ]
    },
    {
      "cell_type": "markdown",
      "source": [
        "Operators&Basic operations"
      ],
      "metadata": {
        "id": "AVFlXicCmdRI"
      }
    },
    {
      "cell_type": "code",
      "source": [
        "a = 10b = 3\n",
        "\n",
        "print(f\"Addition {a} + {b} ={a+b}\")\n",
        "print(f\"Subtraction {a} - {b} ={a-b}\")\n",
        "print(f\"Multiplication {a} * {b} ={a*b}\")\n",
        "print(f\"Division {a} / {b} ={a/b}\")\n",
        "print(f\"Floor Division {a} // {b} ={a//b}\")\n",
        "print(f\"Modulus {a} % {b} ={a%b}\")\n",
        "print(f\"Exponentiation {a} ** {b} ={a**b}\")"
      ],
      "metadata": {
        "colab": {
          "base_uri": "https://localhost:8080/"
        },
        "id": "36VSix7jmkc4",
        "outputId": "c3260808-28c0-4f4d-ac0b-27eb6337a862"
      },
      "execution_count": null,
      "outputs": [
        {
          "output_type": "stream",
          "name": "stdout",
          "text": [
            "Addition 10 + 3 =13\n",
            "Subtraction 10 - 3 =7\n",
            "Multiplication 10 * 3 =30\n",
            "Division 10 / 3 =3.3333333333333335\n",
            "Floor Division 10 // 3 =3\n",
            "Modulus 10 % 3 =1\n",
            "Exponentiation 10 ** 3 =1000\n"
          ]
        }
      ]
    },
    {
      "cell_type": "code",
      "source": [
        "result = 2 + 3 * 4 ** 2 -1\n",
        "print(f\"2 +3 * 4 ** 2 - 1 = {result}\")"
      ],
      "metadata": {
        "colab": {
          "base_uri": "https://localhost:8080/"
        },
        "id": "Wtc8E83xnt4B",
        "outputId": "ed5ee212-dfd4-43c3-a541-017c5c04ac8c"
      },
      "execution_count": null,
      "outputs": [
        {
          "output_type": "stream",
          "name": "stdout",
          "text": [
            "2 +3 * 4 ** 2 - 1 = 49\n"
          ]
        }
      ]
    },
    {
      "cell_type": "code",
      "source": [
        "x =5\n",
        "y = 20\n",
        "\n",
        "print(f\"{x} == {y}: {x == y}\")\n",
        "print(f\"{x} != {y}: {x != y}\")\n",
        "print(f\"{x} < {y}: {x < y}\")\n",
        "print(f\"{x} > {y}: {x > y}\")\n",
        "print(f\"{x} <= {y}: {x <= y}\")\n",
        "print(f\"{x} >= {y}: {x >= y}\")"
      ],
      "metadata": {
        "colab": {
          "base_uri": "https://localhost:8080/"
        },
        "id": "P46twlSCpElB",
        "outputId": "0e5a5311-f8c9-43e4-87d9-e6effd9ce65e"
      },
      "execution_count": null,
      "outputs": [
        {
          "output_type": "stream",
          "name": "stdout",
          "text": [
            "5 == 20: False\n",
            "5 != 20: True\n",
            "5 < 20: True\n",
            "5 > 20: False\n",
            "5 <= 20: True\n",
            "5 >= 20: False\n"
          ]
        }
      ]
    },
    {
      "cell_type": "code",
      "source": [
        "name1 = \"Alice\"\n",
        "name2 = \"Bob\"\n",
        "print(f\"'{name1}' < '{name2}': {name1 <name2}\")"
      ],
      "metadata": {
        "colab": {
          "base_uri": "https://localhost:8080/"
        },
        "id": "xWay79oVtsfD",
        "outputId": "ed964c40-a5d5-4d95-f3ec-76b2f9609570"
      },
      "execution_count": null,
      "outputs": [
        {
          "output_type": "stream",
          "name": "stdout",
          "text": [
            "'Alice' < 'Bob': True\n"
          ]
        }
      ]
    },
    {
      "cell_type": "code",
      "source": [
        "p = True\n",
        "q = False\n",
        "\n",
        "print(f\"p and q: {p and q}\")\n",
        "print(f\"p or q: {p or q}\")\n",
        "print(f\"not p: {not p}\")"
      ],
      "metadata": {
        "colab": {
          "base_uri": "https://localhost:8080/"
        },
        "id": "O8woX9tsuROi",
        "outputId": "db11812f-b6fe-4b45-ee9e-79856c03f445"
      },
      "execution_count": null,
      "outputs": [
        {
          "output_type": "stream",
          "name": "stdout",
          "text": [
            "p and q: False\n",
            "p or q: True\n",
            "not p: False\n"
          ]
        }
      ]
    },
    {
      "cell_type": "code",
      "source": [
        "age = 20\n",
        "has_license = True\n",
        "can_drive = age >= 18 and has_license\n",
        "print(f\"can drive: {can_drive}\")"
      ],
      "metadata": {
        "colab": {
          "base_uri": "https://localhost:8080/"
        },
        "id": "lN5IzVNZwDLk",
        "outputId": "503eaefb-4e6d-453a-cda4-1eaf94a060e5"
      },
      "execution_count": null,
      "outputs": [
        {
          "output_type": "stream",
          "name": "stdout",
          "text": [
            "can drive: True\n"
          ]
        }
      ]
    },
    {
      "cell_type": "code",
      "source": [
        "score = 85\n",
        "is_present= True\n",
        "can_pass = score >= 80 and is_present\n",
        "print(f\"can pass: {can_pass}\")"
      ],
      "metadata": {
        "colab": {
          "base_uri": "https://localhost:8080/"
        },
        "id": "xRECzyHVw1Ha",
        "outputId": "1113781a-d6b7-47d3-e86a-3e70d10287b7"
      },
      "execution_count": null,
      "outputs": [
        {
          "output_type": "stream",
          "name": "stdout",
          "text": [
            "can pass: True\n"
          ]
        }
      ]
    },
    {
      "cell_type": "code",
      "source": [
        "age = 25\n",
        "annual_income = 50000\n",
        "credit_score = 720\n",
        "has_collateral = True"
      ],
      "metadata": {
        "id": "VaIO5awlxoh7"
      },
      "execution_count": null,
      "outputs": []
    },
    {
      "cell_type": "code",
      "source": [
        "min_age = 18\n",
        "min_income = 30000\n",
        "min_credit_score =650"
      ],
      "metadata": {
        "id": "MeWQ9lUwziU9"
      },
      "execution_count": null,
      "outputs": []
    },
    {
      "cell_type": "code",
      "source": [
        "print(f\"age: {age >= min_age}\")\n",
        "print(f\"annual_income: {annual_income < min_income}\")\n",
        "print(f\"credit_score: {credit_score > min_credit_score}\")"
      ],
      "metadata": {
        "colab": {
          "base_uri": "https://localhost:8080/"
        },
        "id": "iZ_9EF160gDj",
        "outputId": "507c9e6d-ce0c-40e1-9b52-bf0eab0825fa"
      },
      "execution_count": null,
      "outputs": [
        {
          "output_type": "stream",
          "name": "stdout",
          "text": [
            "age: True\n",
            "annual_income: False\n",
            "credit_score: True\n"
          ]
        }
      ]
    },
    {
      "cell_type": "code",
      "source": [],
      "metadata": {
        "id": "t0fhzfh92kgN"
      },
      "execution_count": null,
      "outputs": []
    },
    {
      "cell_type": "markdown",
      "source": [
        "creating lists\n"
      ],
      "metadata": {
        "id": "EhX8IzlF-3pO"
      }
    },
    {
      "cell_type": "code",
      "source": [
        "fruits = [\"apple\",\"banana\",\"orange\",\"grape\"]\n",
        "numbers = [10,20,30,40,50]\n",
        "mixed_data = [1,\"Hello\",3.14,True]"
      ],
      "metadata": {
        "id": "Cnhh8Lya-69O"
      },
      "execution_count": null,
      "outputs": []
    },
    {
      "cell_type": "code",
      "source": [
        "print(f\"First fruit: {fruits[0]}\")\n",
        "print(f\"Last fruit: {fruits[-1]}\")\n",
        "print(f\"All except first: {fruits[-2]}\")"
      ],
      "metadata": {
        "colab": {
          "base_uri": "https://localhost:8080/"
        },
        "id": "uXdjrsr1_mfP",
        "outputId": "b61c9b15-fdde-4d0c-9f60-36f64d7ae828"
      },
      "execution_count": null,
      "outputs": [
        {
          "output_type": "stream",
          "name": "stdout",
          "text": [
            "First fruit: apple\n",
            "Last fruit: grape\n",
            "All except first: orange\n"
          ]
        }
      ]
    },
    {
      "cell_type": "code",
      "source": [
        "print(f\"First 2 fruits: {fruits[0:2]}\")\n",
        "print(f\"Last 2 fruits: {fruits[-2:]}\")\n",
        "print(f\"All except first: {fruits[1:]}\")"
      ],
      "metadata": {
        "colab": {
          "base_uri": "https://localhost:8080/"
        },
        "id": "t0WiUXkZAYz3",
        "outputId": "bdd0f3d3-6fae-4399-9705-64da05c3ebc1"
      },
      "execution_count": null,
      "outputs": [
        {
          "output_type": "stream",
          "name": "stdout",
          "text": [
            "First 2 fruits: ['apple', 'banana']\n",
            "Last 2 fruits: ['orange', 'grape']\n",
            "All except first: ['banana', 'orange', 'grape']\n"
          ]
        }
      ]
    },
    {
      "cell_type": "code",
      "source": [],
      "metadata": {
        "id": "qCumsmG8BmB2"
      },
      "execution_count": null,
      "outputs": []
    },
    {
      "cell_type": "markdown",
      "source": [
        "List operations"
      ],
      "metadata": {
        "id": "_Ween61qCBgv"
      }
    },
    {
      "cell_type": "code",
      "source": [
        "print(f\"Length: {len(fruits)}\")\n",
        "print(f\"Contains 'apple': {'apple' in fruits}\")\n",
        "print(f\"Index of 'banana': {fruits.index('banana')}\")"
      ],
      "metadata": {
        "colab": {
          "base_uri": "https://localhost:8080/"
        },
        "id": "FGDoRPHECDyu",
        "outputId": "9dbd00a5-f67a-40d2-d55f-79fca7c1dd3e"
      },
      "execution_count": null,
      "outputs": [
        {
          "output_type": "stream",
          "name": "stdout",
          "text": [
            "Length: 6\n",
            "Contains 'apple': True\n",
            "Index of 'banana': 3\n"
          ]
        }
      ]
    },
    {
      "cell_type": "code",
      "source": [
        "coordinates =(10,20)\n",
        "rgb_color = (255,120,0)\n",
        "person_info = (\"Alice\",25,\"Engineer\",True)"
      ],
      "metadata": {
        "id": "AFlvHXIGDCCX"
      },
      "execution_count": null,
      "outputs": []
    },
    {
      "cell_type": "markdown",
      "source": [
        "Tuples"
      ],
      "metadata": {
        "id": "DJ4O-m_pERKX"
      }
    },
    {
      "cell_type": "code",
      "source": [
        "x,y = coordinates\n",
        "print(f\"x: {x}, y: {y}\")"
      ],
      "metadata": {
        "colab": {
          "base_uri": "https://localhost:8080/"
        },
        "id": "yf8I88UVESoG",
        "outputId": "8c53338c-c119-4b06-ec0e-c550c906d531"
      },
      "execution_count": null,
      "outputs": [
        {
          "output_type": "stream",
          "name": "stdout",
          "text": [
            "x: 10, y: 20\n"
          ]
        }
      ]
    },
    {
      "cell_type": "code",
      "source": [
        "print(f\"count of 25: {person_info.count(25)}\")\n",
        "print(f\"Index of 'Engineer': {person_info.index('Engineer')}\")"
      ],
      "metadata": {
        "id": "_o_nlNlvFpQI",
        "colab": {
          "base_uri": "https://localhost:8080/"
        },
        "outputId": "2e4d7a20-1dfa-4713-f44c-05c088048f85"
      },
      "execution_count": null,
      "outputs": [
        {
          "output_type": "stream",
          "name": "stdout",
          "text": [
            "count of 25: 1\n",
            "Index of 'Engineer': 2\n"
          ]
        }
      ]
    },
    {
      "cell_type": "markdown",
      "source": [
        "DICTIONARY"
      ],
      "metadata": {
        "id": "0mnfGAzSD4vR"
      }
    },
    {
      "cell_type": "code",
      "source": [
        "person = {\n",
        "    \"name\": \"Alice Johnson\",\n",
        "    \"age\": 23,\n",
        "    \"profession\": \"Software Engineer\",\n",
        "    \"salary\": 75000,\n",
        "    \"skills\": {\"python\",\"javascript\",\"sql\"}\n",
        "}"
      ],
      "metadata": {
        "id": "CS01_XOy_qI5"
      },
      "execution_count": null,
      "outputs": []
    },
    {
      "cell_type": "markdown",
      "source": [
        "Accessing values"
      ],
      "metadata": {
        "id": "lCk3hRylEvyK"
      }
    },
    {
      "cell_type": "code",
      "source": [
        "print(f\"name: {person['name']}\")\n",
        "print(f\"age: {person.get('age','unknown')}\")"
      ],
      "metadata": {
        "colab": {
          "base_uri": "https://localhost:8080/"
        },
        "id": "KG30zmAmEykS",
        "outputId": "f14da456-1f5b-4002-ae45-f74862fcdbd3"
      },
      "execution_count": null,
      "outputs": [
        {
          "output_type": "stream",
          "name": "stdout",
          "text": [
            "name: Alice Johnson\n",
            "age: 23\n"
          ]
        }
      ]
    },
    {
      "cell_type": "code",
      "source": [],
      "metadata": {
        "id": "D3llOjCiFTwe"
      },
      "execution_count": null,
      "outputs": []
    },
    {
      "cell_type": "markdown",
      "source": [
        "dictionary methods\n"
      ],
      "metadata": {
        "id": "DH_tPMQSFzwy"
      }
    },
    {
      "cell_type": "code",
      "source": [
        "print(f\"Keys: {list(person.keys())}\")\n",
        "print(f\"values: {list(person.values())}\")\n",
        "print(f\"items: {list(person.items())}\")"
      ],
      "metadata": {
        "colab": {
          "base_uri": "https://localhost:8080/"
        },
        "id": "K0eKvrpTF3Hh",
        "outputId": "cea19851-d8d0-42d8-8e1b-806a616e0ce5"
      },
      "execution_count": null,
      "outputs": [
        {
          "output_type": "stream",
          "name": "stdout",
          "text": [
            "Keys: ['name', 'age', 'profession', 'salary', 'skills']\n",
            "values: ['Alice Johnson', 23, 'Software Engineer', 75000, {'python', 'javascript', 'sql'}]\n",
            "items: [('name', 'Alice Johnson'), ('age', 23), ('profession', 'Software Engineer'), ('salary', 75000), ('skills', {'python', 'javascript', 'sql'})]\n"
          ]
        }
      ]
    },
    {
      "cell_type": "code",
      "source": [
        "person[\"location\"]=\"newyork\"\n",
        "person[\"salary\"]=80000\n"
      ],
      "metadata": {
        "id": "QrOjWevLGO8q"
      },
      "execution_count": null,
      "outputs": []
    },
    {
      "cell_type": "code",
      "source": [
        "inventory={\n",
        "    \"laptops\":{\n",
        "        \"quantity\":50,\n",
        "        \"price\":999.99\n",
        "\n",
        "    },\n",
        "    \"phones\":{\n",
        "        \"quantity\":100,\n",
        "        \"price\":599.99\n",
        "    },\n",
        "    \"tablets\":{\n",
        "        \"quantity\":30,\n",
        "        \"price\":399.99\n",
        "    }\n",
        "}"
      ],
      "metadata": {
        "id": "ZOmA733tHf46"
      },
      "execution_count": null,
      "outputs": []
    },
    {
      "cell_type": "markdown",
      "source": [
        "NESTED ACCESS"
      ],
      "metadata": {
        "id": "huslGHNAI-vy"
      }
    },
    {
      "cell_type": "code",
      "source": [
        "print(f\"laptops price: ${inventory['laptops']['price']}\")"
      ],
      "metadata": {
        "colab": {
          "base_uri": "https://localhost:8080/"
        },
        "id": "I8yTGfw1JCNC",
        "outputId": "52213ae5-93c1-400b-f0fe-e64bb915968d"
      },
      "execution_count": null,
      "outputs": [
        {
          "output_type": "stream",
          "name": "stdout",
          "text": [
            "laptops price: $999.99\n"
          ]
        }
      ]
    },
    {
      "cell_type": "markdown",
      "source": [
        "sets"
      ],
      "metadata": {
        "id": "AFjss5IvJjsq"
      }
    },
    {
      "cell_type": "code",
      "source": [
        "colors = {\"red\",\"green\",\"blue\",\"red\"}\n",
        "print(f\"colors: {colors}\")"
      ],
      "metadata": {
        "colab": {
          "base_uri": "https://localhost:8080/"
        },
        "id": "RV_JwVgVILRi",
        "outputId": "2fa48585-b7b6-4a07-c8a4-76cd5b3f4719"
      },
      "execution_count": null,
      "outputs": [
        {
          "output_type": "stream",
          "name": "stdout",
          "text": [
            "colors: {'red', 'green', 'blue'}\n"
          ]
        }
      ]
    },
    {
      "cell_type": "code",
      "source": [],
      "metadata": {
        "id": "Q0El2sOBJzRy"
      },
      "execution_count": null,
      "outputs": []
    },
    {
      "cell_type": "markdown",
      "source": [
        "set operations"
      ],
      "metadata": {
        "id": "o4rQJ0eEJ1EZ"
      }
    },
    {
      "cell_type": "code",
      "source": [
        "team1_skills = {\"python\",\"javascript\",\"sql\",\"react\"}\n",
        "team2_skills = {\"javascript\",\"sql\",\"java\",\"spring\"}"
      ],
      "metadata": {
        "id": "wJ557gKMJ2qq"
      },
      "execution_count": null,
      "outputs": []
    },
    {
      "cell_type": "code",
      "source": [
        "print(f\"comman_skills: {team1_skills.intersection(team2_skills)}\")\n",
        "print(f\"all_skills: {team1_skills.union(team2_skills)}\")\n",
        "print(f\"team1 only: {team1_skills.difference(team2_skills)}\")"
      ],
      "metadata": {
        "colab": {
          "base_uri": "https://localhost:8080/"
        },
        "id": "LM7_gS9HKPqT",
        "outputId": "72bef663-a860-4eea-e639-0520f75e1312"
      },
      "execution_count": null,
      "outputs": [
        {
          "output_type": "stream",
          "name": "stdout",
          "text": [
            "comman_skills: {'javascript', 'sql'}\n",
            "all_skills: {'react', 'java', 'spring', 'sql', 'python', 'javascript'}\n",
            "team1 only: {'python', 'react'}\n"
          ]
        }
      ]
    },
    {
      "cell_type": "markdown",
      "source": [
        "Adding to sets"
      ],
      "metadata": {
        "id": "zvhrHkInMOXz"
      }
    },
    {
      "cell_type": "code",
      "source": [
        "colors.add(\"yellow\")\n",
        "colors.update([\"purple\", \"orange\"])\n",
        "print(f\"updated colors: {colors}\")"
      ],
      "metadata": {
        "colab": {
          "base_uri": "https://localhost:8080/"
        },
        "id": "IQVoB09AK6Rg",
        "outputId": "2b8c86ec-e83d-49e0-bda5-dd5fe5ea8c36"
      },
      "execution_count": null,
      "outputs": [
        {
          "output_type": "stream",
          "name": "stdout",
          "text": [
            "updated colors: {'green', 'yellow', 'orange', 'red', 'purple', 'blue'}\n"
          ]
        }
      ]
    },
    {
      "cell_type": "markdown",
      "source": [
        "conditional statements"
      ],
      "metadata": {
        "id": "mQjA8sxtPU-c"
      }
    },
    {
      "cell_type": "code",
      "source": [
        "def get_grade_letter(score):\n",
        "  if score >= 90:\n",
        "    return \"A\"\n",
        "  elif score >= 80:\n",
        "    return \"B\"\n",
        "  elif score >= 70:\n",
        "    return \"C\"\n",
        "  else:\n",
        "    return \"F\""
      ],
      "metadata": {
        "id": "e-lvH9ePPXoL"
      },
      "execution_count": null,
      "outputs": []
    },
    {
      "cell_type": "code",
      "source": [
        "test_scores = [95,83,72,65,58]\n",
        "for score in test_scores:\n",
        "  grade = get_grade_letter(score)\n",
        "  print(f\"Score {score}: Grade {grade}\")"
      ],
      "metadata": {
        "colab": {
          "base_uri": "https://localhost:8080/"
        },
        "id": "9KyYljVXQb4F",
        "outputId": "58d62861-1c59-41d8-c92a-3252e4e1f597"
      },
      "execution_count": null,
      "outputs": [
        {
          "output_type": "stream",
          "name": "stdout",
          "text": [
            "Score 95: Grade A\n",
            "Score 83: Grade B\n",
            "Score 72: Grade C\n",
            "Score 65: Grade F\n",
            "Score 58: Grade F\n"
          ]
        }
      ]
    },
    {
      "cell_type": "code",
      "source": [],
      "metadata": {
        "id": "qtjJ7JSXRCBz"
      },
      "execution_count": null,
      "outputs": []
    },
    {
      "cell_type": "markdown",
      "source": [
        "nested condition"
      ],
      "metadata": {
        "id": "eo37Mr4fRIOr"
      }
    },
    {
      "cell_type": "code",
      "source": [
        "def get_shipping_cost(weight, distance):\n",
        "  base_cost =5.0\n",
        "\n",
        "  if weight <= 1:\n",
        "    weight_cost = 2.0\n",
        "  elif weight <= 5:\n",
        "      weight_cost = 5.0\n",
        "  else:\n",
        "    weight_cost = 10.0\n",
        "\n",
        "  if distance <= 100:\n",
        "    distance_cost = 1.0\n",
        "  elif distance <= 500:\n",
        "    distance_cost = 3.0\n",
        "  else:\n",
        "    distance_cost = 7.0\n",
        "  return base_cost + weight_cost + distance_cost"
      ],
      "metadata": {
        "id": "Hz7buoGkRTWC"
      },
      "execution_count": null,
      "outputs": []
    },
    {
      "cell_type": "code",
      "source": [
        "print(f\"Light, close: ${get_shipping_cost(0.5, 50)}\")\n",
        "print(f\"Heavy, far: ${get_shipping_cost(10, 800)}\")"
      ],
      "metadata": {
        "colab": {
          "base_uri": "https://localhost:8080/"
        },
        "id": "wRtMT7zGTZBc",
        "outputId": "109c1519-cb8a-408c-d3b1-d63818938b0a"
      },
      "execution_count": null,
      "outputs": [
        {
          "output_type": "stream",
          "name": "stdout",
          "text": [
            "Light, close: $8.0\n",
            "Heavy, far: $22.0\n"
          ]
        }
      ]
    },
    {
      "cell_type": "code",
      "source": [],
      "metadata": {
        "id": "FGLyvkadTzAs"
      },
      "execution_count": null,
      "outputs": []
    },
    {
      "cell_type": "markdown",
      "source": [
        "loops"
      ],
      "metadata": {
        "id": "UyAa8u9JUT4E"
      }
    },
    {
      "cell_type": "code",
      "source": [],
      "metadata": {
        "id": "9c5eK9sPUV5b"
      },
      "execution_count": null,
      "outputs": []
    },
    {
      "cell_type": "code",
      "source": [
        "fruits = [\"apple\", \"banana\", \"orange\",\"grape\"]\n",
        "for fruit in fruits:\n",
        "  print(f\"I like {fruit}\")"
      ],
      "metadata": {
        "colab": {
          "base_uri": "https://localhost:8080/"
        },
        "id": "Mn9RENE-UWpk",
        "outputId": "d09676fb-d985-4d2e-bf52-d85c7361d347"
      },
      "execution_count": null,
      "outputs": [
        {
          "output_type": "stream",
          "name": "stdout",
          "text": [
            "I like apple\n",
            "I like banana\n",
            "I like orange\n",
            "I like grape\n"
          ]
        }
      ]
    },
    {
      "cell_type": "markdown",
      "source": [
        "loop with enumarate"
      ],
      "metadata": {
        "id": "0PPqkm5qWca0"
      }
    },
    {
      "cell_type": "code",
      "source": [
        "for i, fruit in enumerate(fruits):\n",
        "  print(f\"{i+1}, {fruit}\")"
      ],
      "metadata": {
        "colab": {
          "base_uri": "https://localhost:8080/"
        },
        "id": "bdsAhEGjWefE",
        "outputId": "e866aa7b-753a-49e0-aadf-04d7c01fd81b"
      },
      "execution_count": null,
      "outputs": [
        {
          "output_type": "stream",
          "name": "stdout",
          "text": [
            "1, apple\n",
            "2, banana\n",
            "3, orange\n",
            "4, grape\n"
          ]
        }
      ]
    },
    {
      "cell_type": "code",
      "source": [],
      "metadata": {
        "id": "xoPPxH9qXmcV"
      },
      "execution_count": null,
      "outputs": []
    },
    {
      "cell_type": "markdown",
      "source": [
        "loop with range"
      ],
      "metadata": {
        "id": "WrpSeIUfXoyc"
      }
    },
    {
      "cell_type": "code",
      "source": [
        "for day in range(2, 8):\n",
        "  print(f\"{day} of the week\")\n"
      ],
      "metadata": {
        "colab": {
          "base_uri": "https://localhost:8080/"
        },
        "id": "EPiD7mGqXqS7",
        "outputId": "857b91f9-5250-4ad4-b3c0-bcc7804ab2fa"
      },
      "execution_count": null,
      "outputs": [
        {
          "output_type": "stream",
          "name": "stdout",
          "text": [
            "2 of the week\n",
            "3 of the week\n",
            "4 of the week\n",
            "5 of the week\n",
            "6 of the week\n",
            "7 of the week\n"
          ]
        }
      ]
    },
    {
      "cell_type": "code",
      "source": [],
      "metadata": {
        "id": "kWY_AvwIYGON"
      },
      "execution_count": null,
      "outputs": []
    },
    {
      "cell_type": "markdown",
      "source": [
        "nested loops"
      ],
      "metadata": {
        "id": "WUgul_XfYNmM"
      }
    },
    {
      "cell_type": "code",
      "source": [
        "print(\"Multiplication Table\")\n",
        "for i in range(1, 6):\n",
        "  for j in range(1, 6):\n",
        "    product = i* j\n",
        "    print(f\"{i} x {j} = {product:2d}\", end=\" \")\n",
        "    print()"
      ],
      "metadata": {
        "colab": {
          "base_uri": "https://localhost:8080/"
        },
        "id": "RL6ZPar0YPC0",
        "outputId": "896c59ee-2242-418c-9cc6-5978dbbe87f1"
      },
      "execution_count": null,
      "outputs": [
        {
          "output_type": "stream",
          "name": "stdout",
          "text": [
            "Multiplication Table\n",
            "1 x 1 =  1 \n",
            "1 x 2 =  2 \n",
            "1 x 3 =  3 \n",
            "1 x 4 =  4 \n",
            "1 x 5 =  5 \n",
            "2 x 1 =  2 \n",
            "2 x 2 =  4 \n",
            "2 x 3 =  6 \n",
            "2 x 4 =  8 \n",
            "2 x 5 = 10 \n",
            "3 x 1 =  3 \n",
            "3 x 2 =  6 \n",
            "3 x 3 =  9 \n",
            "3 x 4 = 12 \n",
            "3 x 5 = 15 \n",
            "4 x 1 =  4 \n",
            "4 x 2 =  8 \n",
            "4 x 3 = 12 \n",
            "4 x 4 = 16 \n",
            "4 x 5 = 20 \n",
            "5 x 1 =  5 \n",
            "5 x 2 = 10 \n",
            "5 x 3 = 15 \n",
            "5 x 4 = 20 \n",
            "5 x 5 = 25 \n"
          ]
        }
      ]
    },
    {
      "cell_type": "code",
      "source": [],
      "metadata": {
        "id": "I2Yt7ulSZC1N"
      },
      "execution_count": null,
      "outputs": []
    },
    {
      "cell_type": "markdown",
      "source": [
        "processing data with loops"
      ],
      "metadata": {
        "id": "BjfVRKd4sSzD"
      }
    },
    {
      "cell_type": "code",
      "source": [
        "sales_data = [\n",
        "    {\"product\": \"laptop\",\"price\":999,\"quantity\": 5},\n",
        "    {\"product\": \"phone\",\"price\":599,\"quantity\": 10},\n",
        "     {\"product\": \"tablet\",\"price\":599,\"quantity\": 8},\n",
        "\n",
        "]\n",
        "\n"
      ],
      "metadata": {
        "id": "g2qrZTmDsZSa"
      },
      "execution_count": null,
      "outputs": []
    },
    {
      "cell_type": "code",
      "source": [
        "total_revenue = 0\n",
        "for item in sales_data:\n",
        "  item_revenue = item[\"price\"] * item[\"quantity\"]\n",
        "  total_revenue += item_revenue\n",
        "  print(f\"{item['product']}: ${item_revenue}\")\n",
        "\n",
        "  print(f\"Total Revenue: ${total_revenue}\")"
      ],
      "metadata": {
        "colab": {
          "base_uri": "https://localhost:8080/"
        },
        "id": "9Om8eetDtQsb",
        "outputId": "bff5cd8f-c1b7-48b7-db6b-6160e9afab26"
      },
      "execution_count": null,
      "outputs": [
        {
          "output_type": "stream",
          "name": "stdout",
          "text": [
            "laptop: $4995\n",
            "Total Revenue: $4995\n",
            "phone: $5990\n",
            "Total Revenue: $10985\n",
            "tablet: $4792\n",
            "Total Revenue: $15777\n"
          ]
        }
      ]
    },
    {
      "cell_type": "code",
      "source": [],
      "metadata": {
        "id": "PuKADhdXuR1D"
      },
      "execution_count": null,
      "outputs": []
    },
    {
      "cell_type": "code",
      "source": [
        "\n",
        "def simple_guessing_game():\n",
        "  target = 7\n",
        "  guess = 0\n",
        "  attempts = 0\n",
        "  print(\"Guess the number between 1 and 10!\")\n",
        "\n",
        "  while guess != target:\n",
        "\n",
        "    import random\n",
        "    guess = random.randint(1, 10)\n",
        "    attempts += 1\n",
        "\n",
        "    if guess < target:\n",
        "       print(f\"Guess {attempts}: {guess} - Too low!\")\n",
        "    elif guess > target:\n",
        "      print(f\"Guess {attempts}: {guess} - Too high!\")\n",
        "    else:\n",
        "      print(f\"Guess {attempts}: {guess} - Correct!\")\n",
        "\n",
        "      if attempts > 10:\n",
        "        print(f\"Max attempts reached!\")\n",
        "        break\n",
        "\n",
        "  print(f\"Game Finished in {attempts} attempts\")\n",
        "\n",
        "simple_guessing_game()\n"
      ],
      "metadata": {
        "colab": {
          "base_uri": "https://localhost:8080/"
        },
        "id": "ejuhcq2mu7Y7",
        "outputId": "7c5f7fc3-8507-4198-ff5e-d8a4b28363f6"
      },
      "execution_count": null,
      "outputs": [
        {
          "output_type": "stream",
          "name": "stdout",
          "text": [
            "Guess the number between 1 and 10!\n",
            "Guess 1: 4 - Too low!\n",
            "Guess 2: 2 - Too low!\n",
            "Guess 3: 1 - Too low!\n",
            "Guess 4: 10 - Too high!\n",
            "Guess 5: 4 - Too low!\n",
            "Guess 6: 4 - Too low!\n",
            "Guess 7: 10 - Too high!\n",
            "Guess 8: 1 - Too low!\n",
            "Guess 9: 1 - Too low!\n",
            "Guess 10: 6 - Too low!\n",
            "Guess 11: 4 - Too low!\n",
            "Guess 12: 3 - Too low!\n",
            "Guess 13: 8 - Too high!\n",
            "Guess 14: 4 - Too low!\n",
            "Guess 15: 9 - Too high!\n",
            "Guess 16: 2 - Too low!\n",
            "Guess 17: 9 - Too high!\n",
            "Guess 18: 5 - Too low!\n",
            "Guess 19: 9 - Too high!\n",
            "Guess 20: 5 - Too low!\n",
            "Guess 21: 3 - Too low!\n",
            "Guess 22: 10 - Too high!\n",
            "Guess 23: 3 - Too low!\n",
            "Guess 24: 8 - Too high!\n",
            "Guess 25: 3 - Too low!\n",
            "Guess 26: 2 - Too low!\n",
            "Guess 27: 1 - Too low!\n",
            "Guess 28: 2 - Too low!\n",
            "Guess 29: 7 - Correct!\n",
            "Max attempts reached!\n",
            "Game Finished in 29 attempts\n"
          ]
        }
      ]
    },
    {
      "cell_type": "markdown",
      "source": [
        "while loop for processing"
      ],
      "metadata": {
        "id": "SpOug6hky5Vs"
      }
    },
    {
      "cell_type": "code",
      "source": [
        "def process_queue():\n",
        "  queue = [\"task 1\", \"task 2\", \"task 3\",\"task 4\"]\n",
        "\n",
        "  while queue:\n",
        "    current_task = queue.pop(0)\n",
        "    print(f\"processing: {current_task}\")\n",
        "\n",
        "    print(f\"remaining tasks: {len(queue)}\")\n",
        "\n",
        "  print(\"All tasks completed!\")\n",
        "\n",
        "process_queue()"
      ],
      "metadata": {
        "colab": {
          "base_uri": "https://localhost:8080/"
        },
        "id": "mdE91K6Ay8Lr",
        "outputId": "5eb4b142-36cc-44e3-ebe2-570a8c2c1d6d"
      },
      "execution_count": null,
      "outputs": [
        {
          "output_type": "stream",
          "name": "stdout",
          "text": [
            "processing: task 1\n",
            "remaining tasks: 3\n",
            "processing: task 2\n",
            "remaining tasks: 2\n",
            "processing: task 3\n",
            "remaining tasks: 1\n",
            "processing: task 4\n",
            "remaining tasks: 0\n",
            "All tasks completed!\n"
          ]
        }
      ]
    },
    {
      "cell_type": "code",
      "source": [],
      "metadata": {
        "id": "4Zk7VlNr0b_r"
      },
      "execution_count": null,
      "outputs": []
    },
    {
      "cell_type": "markdown",
      "source": [
        "functions"
      ],
      "metadata": {
        "id": "E9u5NEEs1NRU"
      }
    },
    {
      "cell_type": "code",
      "source": [
        "def greet(name):\n",
        "  return f\"hello,{name}!\""
      ],
      "metadata": {
        "id": "Nvizaaa71Orr"
      },
      "execution_count": null,
      "outputs": []
    },
    {
      "cell_type": "code",
      "source": [
        "message=greet(\"python message\")\n",
        "print(message)"
      ],
      "metadata": {
        "colab": {
          "base_uri": "https://localhost:8080/"
        },
        "id": "C3gu102P2puE",
        "outputId": "5345f559-2ed5-4b6b-d2a2-3d13fdf4e637"
      },
      "execution_count": null,
      "outputs": [
        {
          "output_type": "stream",
          "name": "stdout",
          "text": [
            "hello,python message!\n"
          ]
        }
      ]
    },
    {
      "cell_type": "code",
      "source": [],
      "metadata": {
        "id": "RQZ0U6Us3fmc"
      },
      "execution_count": null,
      "outputs": []
    },
    {
      "cell_type": "markdown",
      "source": [
        "function with multiple parameters"
      ],
      "metadata": {
        "id": "1sGvKe_I3nmL"
      }
    },
    {
      "cell_type": "code",
      "source": [
        "def calculate_area(length, width):\n",
        "  area = length * width\n",
        "  return area"
      ],
      "metadata": {
        "id": "sAwFo5S_33Fc"
      },
      "execution_count": null,
      "outputs": []
    },
    {
      "cell_type": "code",
      "source": [
        "room_area = calculate_area(12, 10)\n",
        "print(f\"room area: {room_area} square feet\")"
      ],
      "metadata": {
        "colab": {
          "base_uri": "https://localhost:8080/"
        },
        "id": "_kd2TRzY4IBz",
        "outputId": "f328a278-6f63-44fb-8718-0d44f6d43610"
      },
      "execution_count": null,
      "outputs": [
        {
          "output_type": "stream",
          "name": "stdout",
          "text": [
            "room area: 120 square feet\n"
          ]
        }
      ]
    },
    {
      "cell_type": "code",
      "source": [],
      "metadata": {
        "id": "IzMHOunk4Xur"
      },
      "execution_count": null,
      "outputs": []
    },
    {
      "cell_type": "markdown",
      "source": [
        "function with default parameters"
      ],
      "metadata": {
        "id": "fEX0_Q_O4cLs"
      }
    },
    {
      "cell_type": "code",
      "source": [
        "def create_user_profile(name=\"anu\", age=18, location=\"unknown\", active=\"max\"):\n",
        "  return {\n",
        "    \"name\": name,\n",
        "    \"age\": age,\n",
        "    \"location\": location,\n",
        "    \"active\": active\n",
        "  }"
      ],
      "metadata": {
        "id": "LpywKdYd4fPb"
      },
      "execution_count": null,
      "outputs": []
    },
    {
      "cell_type": "code",
      "source": [],
      "metadata": {
        "id": "6M70pwiH6lfc"
      },
      "execution_count": null,
      "outputs": []
    },
    {
      "cell_type": "markdown",
      "source": [
        "function returning multiple values"
      ],
      "metadata": {
        "id": "0JbsGVIQ74kk"
      }
    },
    {
      "cell_type": "code",
      "source": [
        "def analyze_text(text):\n",
        "  words = text.split()\n",
        "  word_count = len(words)\n",
        "  char_count = len(text)\n",
        "  char_count_no_spaces = len(text.replace(\" \",\"\"))\n",
        "\n",
        "  return word_count, char_count, char_count_no_spaces"
      ],
      "metadata": {
        "id": "XGKyl_e-8C2E"
      },
      "execution_count": null,
      "outputs": []
    },
    {
      "cell_type": "code",
      "source": [
        "sample_text = \"python is a powerful programming language\"\n",
        "\n",
        "words, chars, chars_no_space = analyze_text(sample_text)\n",
        "\n",
        "print(f\"text: '{sample_text}'\")\n",
        "print(f\"word count: {words}\")\n",
        "print(f\"character count: {chars}\")\n",
        "print(f\"characters (no spaces): {chars_no_space}\")"
      ],
      "metadata": {
        "colab": {
          "base_uri": "https://localhost:8080/"
        },
        "id": "g3b5b2f39qp1",
        "outputId": "355e529c-dadb-42fd-c7fb-58ab38e65933"
      },
      "execution_count": null,
      "outputs": [
        {
          "output_type": "stream",
          "name": "stdout",
          "text": [
            "text: 'python is a powerful programming language'\n",
            "word count: 6\n",
            "character count: 41\n",
            "characters (no spaces): 36\n"
          ]
        }
      ]
    },
    {
      "cell_type": "markdown",
      "source": [
        "variable length  arguments"
      ],
      "metadata": {
        "id": "V-LhEI_F-9Ms"
      }
    },
    {
      "cell_type": "code",
      "source": [
        "def calculate_average(*numbers):\n",
        "  if not numbers:\n",
        "    return 0\n",
        "  return sum(numbers)/len(numbers)"
      ],
      "metadata": {
        "id": "gjZPFty6_Aqk"
      },
      "execution_count": null,
      "outputs": []
    },
    {
      "cell_type": "code",
      "source": [
        "avg1 = calculate_average(10, 20, 30)\n",
        "avg2 = calculate_average(5, 15, 25, 35, 45)\n",
        "avg3 = calculate_average(100)\n",
        "print(f\"average of 10,20,30:{avg1}\")\n",
        "print(f\"average of 5,15,25,45:{avg2}\")\n",
        "print(f\"average of 100:{avg3}\")"
      ],
      "metadata": {
        "colab": {
          "base_uri": "https://localhost:8080/"
        },
        "id": "Y8tmVkWp_6Vl",
        "outputId": "946dc3d0-bff1-4a8a-d52f-5d9ff0d2ea25"
      },
      "execution_count": null,
      "outputs": [
        {
          "output_type": "stream",
          "name": "stdout",
          "text": [
            "average of 10,20,30:20.0\n",
            "average of 5,15,25,45:25.0\n",
            "average of 100:100.0\n"
          ]
        }
      ]
    },
    {
      "cell_type": "code",
      "source": [],
      "metadata": {
        "id": "Tex8I2eFAQIV"
      },
      "execution_count": null,
      "outputs": []
    },
    {
      "cell_type": "markdown",
      "source": [
        "keyword arguments"
      ],
      "metadata": {
        "id": "E-wwVl8IBqP2"
      }
    },
    {
      "cell_type": "code",
      "source": [
        "def create_report(**data):\n",
        "  print(\"=== REPORT ===\")\n",
        "\n",
        "  for key, value in data.items():\n",
        "    print(f\"{key.replace('_','').title()}: {value}\")\n",
        "\n",
        "  print(\"===============\")\n",
        "\n",
        "create_report(\n",
        "    title=\"Monthly Sales Report\",\n",
        "    date=\"2024-01-01\",\n",
        "    total_sales=15000,\n",
        "    new_customers=25,\n",
        "    returning_customers=150\n",
        ")"
      ],
      "metadata": {
        "colab": {
          "base_uri": "https://localhost:8080/"
        },
        "id": "ar9J3Pp1BsNl",
        "outputId": "de990093-fc91-43ae-bad8-08eae64c994b"
      },
      "execution_count": null,
      "outputs": [
        {
          "output_type": "stream",
          "name": "stdout",
          "text": [
            "=== REPORT ===\n",
            "Title: Monthly Sales Report\n",
            "Date: 2024-01-01\n",
            "Totalsales: 15000\n",
            "Newcustomers: 25\n",
            "Returningcustomers: 150\n",
            "===============\n"
          ]
        }
      ]
    },
    {
      "cell_type": "markdown",
      "source": [
        "regular function"
      ],
      "metadata": {
        "id": "03K56AVsF0_u"
      }
    },
    {
      "cell_type": "code",
      "source": [
        "def square(X):\n",
        "  return x ** 2\n"
      ],
      "metadata": {
        "id": "oadNN7OLF3OV"
      },
      "execution_count": null,
      "outputs": []
    },
    {
      "cell_type": "code",
      "source": [
        "square_lambda = lambda X: X ** 2\n",
        "print(f\"Regular function: {square(5)}\")\n",
        "print(f\"Lambda function: {square_lambda(5)}\")"
      ],
      "metadata": {
        "colab": {
          "base_uri": "https://localhost:8080/"
        },
        "id": "nvBa7ZijGDHt",
        "outputId": "651779ae-bb99-408b-b319-27586fce027b"
      },
      "execution_count": null,
      "outputs": [
        {
          "output_type": "stream",
          "name": "stdout",
          "text": [
            "Regular function: 25\n",
            "Lambda function: 25\n"
          ]
        }
      ]
    },
    {
      "cell_type": "code",
      "source": [
        "multiply = lambda x, y: x * y\n",
        "print(f\"Multiply: {multiply(3, 4)}\")"
      ],
      "metadata": {
        "colab": {
          "base_uri": "https://localhost:8080/"
        },
        "id": "a-5od7bYGf-t",
        "outputId": "2ce5c8f1-6a16-48c6-b246-e395834ca6f6"
      },
      "execution_count": null,
      "outputs": [
        {
          "output_type": "stream",
          "name": "stdout",
          "text": [
            "Multiply: 12\n"
          ]
        }
      ]
    },
    {
      "cell_type": "code",
      "source": [
        "numbers = [1,2,3,4,5]\n",
        "squared = list(map(lambda x: x**2,numbers))\n",
        "print(f\"Squared numbers: {squared}\")"
      ],
      "metadata": {
        "colab": {
          "base_uri": "https://localhost:8080/"
        },
        "id": "9w2EX-9GHDHG",
        "outputId": "bcfdd1b9-0b86-4960-df7f-98847b2501e7"
      },
      "execution_count": null,
      "outputs": [
        {
          "output_type": "stream",
          "name": "stdout",
          "text": [
            "Squared numbers: [1, 4, 9, 16, 25]\n"
          ]
        }
      ]
    },
    {
      "cell_type": "code",
      "source": [],
      "metadata": {
        "id": "8pCSnih7H2Md"
      },
      "execution_count": null,
      "outputs": []
    },
    {
      "cell_type": "markdown",
      "source": [
        "Filtering with lambda"
      ],
      "metadata": {
        "id": "6jqvFQPlH4T_"
      }
    },
    {
      "cell_type": "code",
      "source": [
        "ages = [16,21,35,12,45,18,67]\n",
        "adults = list(filter(lambda age: age >= 18, ages))\n",
        "print(f\"Adult ages: {adults}\")"
      ],
      "metadata": {
        "colab": {
          "base_uri": "https://localhost:8080/"
        },
        "id": "T13tI0GDH90V",
        "outputId": "43041e18-9fe1-4b22-cd50-f46136e98e78"
      },
      "execution_count": null,
      "outputs": [
        {
          "output_type": "stream",
          "name": "stdout",
          "text": [
            "Adult ages: [21, 35, 45, 18, 67]\n"
          ]
        }
      ]
    },
    {
      "cell_type": "code",
      "source": [
        "people = [\n",
        "    {\"name\": \"Alice\", \"Bob\", \"age\":30},\n",
        "    {\"name\": \"Bob\", \"age\": 25},\n",
        "    {\"name\": \"Charlie\", \"age\":35}\n",
        "\n",
        "]\n",
        "sorted_people = sorted(\n",
        "    people,\n",
        "    key=lambda person: person[\"age\"])\n",
        "print(\"people sorted by age:\")\n",
        "\n",
        "for person in sorted_people:\n",
        "  print(f\"{person['name']}: {person['age']}\")\n",
        " )"
      ],
      "metadata": {
        "colab": {
          "base_uri": "https://localhost:8080/",
          "height": 110
        },
        "id": "SkCDJdZ9Ju6-",
        "outputId": "bb8afcfb-7b50-4049-b23b-7dcbc095952a"
      },
      "execution_count": null,
      "outputs": [
        {
          "output_type": "error",
          "ename": "IndentationError",
          "evalue": "unindent does not match any outer indentation level (<tokenize>, line 14)",
          "traceback": [
            "\u001b[0;36m  File \u001b[0;32m\"<tokenize>\"\u001b[0;36m, line \u001b[0;32m14\u001b[0m\n\u001b[0;31m    )\u001b[0m\n\u001b[0m    ^\u001b[0m\n\u001b[0;31mIndentationError\u001b[0m\u001b[0;31m:\u001b[0m unindent does not match any outer indentation level\n"
          ]
        }
      ]
    },
    {
      "cell_type": "code",
      "source": [],
      "metadata": {
        "id": "ALS57E9bMs5P"
      },
      "execution_count": null,
      "outputs": []
    },
    {
      "cell_type": "markdown",
      "source": [],
      "metadata": {
        "id": "9E3CdPiqXiay"
      }
    }
  ]
}